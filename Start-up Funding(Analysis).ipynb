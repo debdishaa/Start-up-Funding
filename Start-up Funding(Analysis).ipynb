{
 "cells": [
  {
   "cell_type": "markdown",
   "id": "473c83bb",
   "metadata": {},
   "source": [
    "# START-UP FUNDING"
   ]
  },
  {
   "cell_type": "markdown",
   "id": "4243a457",
   "metadata": {},
   "source": [
    "This dataset has funding information of the Indian startups from January 2015 to August 2017.\n",
    "\n",
    "Feature Details:\n",
    "1. SNo - Serial number\n",
    "2. Date - Date of funding in format DD/MM/YYYY.\n",
    "3. StartupName - Name of the startup which got funded.\n",
    "4. IndustryVertical - Industry to which the startup belongs.\n",
    "5. SubVertical - Sub-category of the industry type.\n",
    "6. CityLocation - City which the startup is based out of.\n",
    "7. InvestorsName - Name of the investors involved in the funding round.\n",
    "8. InvestmentType - Either Private Equity or Seed Funding.\n",
    "9. AmountInUSD - Funding Amount in USD.\n",
    "10. Remarks - Other information, if any.\n"
   ]
  },
  {
   "cell_type": "markdown",
   "id": "f165b5f5",
   "metadata": {},
   "source": [
    "1. No. of Fundings -\n",
    "\n",
    "Check the trend of investments over the years. To check the trend, find -\n",
    "Total number of fundings done in each year.\n",
    "Plot a line graph between year and number of fundings. Take year on x-axis and number of fundings on y-axis.\n",
    "Print year-wise total number of fundings also. Print years in ascending order."
   ]
  },
  {
   "cell_type": "code",
   "execution_count": null,
   "id": "9c3103ce",
   "metadata": {},
   "outputs": [],
   "source": [
    "import csv\n",
    "import matplotlib.pyplot as plt\n",
    "%matplotlib inline\n",
    "import collections\n",
    "with open('startup_funding.csv', encoding ='UTF-8') as file_obj:\n",
    "    file_data = csv.DictReader(file_obj, skipinitialspace=True)\n",
    "\n",
    "    dct = {}\n",
    "    for row in file_data:\n",
    "        year = row['Date'][-4:]\n",
    "        if year in dct:\n",
    "            dct[year] += 1\n",
    "        else:\n",
    "            dct[year] = 1\n",
    "            \n",
    "    ord_dct = collections.OrderedDict(sorted(dct.items()))                                  \n",
    "    plt.plot(list(ord_dct.keys()),list(ord_dct.values()))\n",
    "    plt.xlabel(\"Year\")\n",
    "    plt.ylabel(\"Number of Fundings\")\n",
    "    plt.title('Year VS \"Number of Fundings\"')\n",
    "    plt.show()\n",
    "    \n",
    "    for i in ord_dct.keys():\n",
    "        print(i,end=\" \")\n",
    "        print(ord_dct[i])"
   ]
  },
  {
   "cell_type": "markdown",
   "id": "60929d80",
   "metadata": {},
   "source": [
    "2. Top Indian Cities - \n",
    "\n",
    "Find out which cities are generally chosen for starting a startup.\n",
    "Find top 10 Indian cities which have most number of startups ?\n",
    "Plot a pie chart and visualise it.\n",
    "Print the city name and number of startups in that city also."
   ]
  },
  {
   "cell_type": "code",
   "execution_count": null,
   "id": "4b5db18f",
   "metadata": {},
   "outputs": [],
   "source": [
    "import pandas as pd\n",
    "import numpy as np\n",
    "import matplotlib.pyplot as plt\n",
    "\n",
    "\n",
    "df = pd.read_csv('startup_funding.csv',encoding = 'utf-8')\n",
    "#The separateCity function takes a city name as input, splits it using the '/' delimiter, and takes the first part (before the delimiter).
     The strip() function is used to remove leading and trailing whitespaces. \n",
    "df.dropna(subset=[\"CityLocation\"],inplace=True)\n",
    "def separateCity(city): \n",
    "    return city.split('/')[0].strip() \n",
    "df['CityLocation']=df['CityLocation'].apply(separateCity) \n",
    "df[df['CityLocation']=='bangalore'] = 'Bangalore'\n",
    "df[df['CityLocation']=='Delhi'] = 'New Delhi'\n",
    "\n",
    "city = df['CityLocation']\n",
    "city = city.value_counts()[:10]\n",
    "city_name = city.index\n",
    "no_of_str = city.values\n",
    "\n",
    "plt.pie(no_of_str, labels=city_name, autopct='%.2f%%',counterclock=False)\n",
    "plt.title('Number of startup in city')\n",
    "plt.axis(\"equal\")\n",
    "plt.show()\n",
    "\n",
    "for i in range(city_name.shape[0]):\n",
    "    print(city_name[i],no_of_str[i])"
   ]
  },
  {
   "cell_type": "markdown",
   "id": "befab27d",
   "metadata": {},
   "source": [
    "3. Funding amount -\n",
    "\n",
    "Find out if cities play any role in receiving funding.\n",
    "Find top 10 Indian cities with most amount of fundings received. Find out percentage of funding each city has got (among top 10 Indian cities only).\n",
    "Print the city and percentage with 2 decimal place after rounding off."
   ]
  },
  {
   "cell_type": "code",
   "execution_count": null,
   "id": "0688be32",
   "metadata": {},
   "outputs": [],
   "source": [
    "import pandas as pd\n",
    "import numpy as np\n",
    "import matplotlib.pyplot as plt\n",
    "\n",
    "\n",
    "\n",
    "df = pd.read_csv('startup_funding.csv',encoding = 'utf-8')\n",
    "df.dropna(subset=[\"CityLocation\"],inplace=True)\n",
    "def separateCity(city):\n",
    "    return city.split('/')[0].strip()\n",
    "df['CityLocation'] = df['CityLocation'].apply(separateCity)\n",
    "df['CityLocation'].replace(\"Delhi\",\"New Delhi\",inplace = True)\n",
    "df['CityLocation'].replace(\"bangalore\",\"Bangalore\",inplace = True)\n",
    "\n",
    "df['AmountInUSD'] = df['AmountInUSD'].apply(lambda x: float(str(x).replace(\",\",\"\")))\n",
    "df = df.groupby('CityLocation')['AmountInUSD'].sum()\n",
    "df = df.sort_values(ascending = False)[0:10]\n",
    "city = df.index\n",
    "amount = df.values\n",
    "explode = [0.2,0.2,0.2,0.2,0.1,0.1,0.2,0.2,0.2,0.2]\n",
    "plt.pie(amount,labels = city,autopct='%0.2f',counterclock=False,startangle=90,explode =explode,radius=1.5)\n",
    "plt.show()\n",
    "\n",
    "percent = np.true_divide(amount,amount.sum())*100\n",
    "for i in range(len(city)):\n",
    "    print(city[i],format(percent[i],'0.2f'))"
   ]
  },
  {
   "cell_type": "markdown",
   "id": "3bd2cc4a",
   "metadata": {},
   "source": [
    "4. Investment Type -\n",
    "\n",
    "There are 4 different type of investments. Find out percentage of amount funded for each investment type.\n",
    "Plot a pie chart to visualise.\n",
    "Print the investment type and percentage of amount funded with 2 decimal places after rounding off."
   ]
  },
  {
   "cell_type": "code",
   "execution_count": null,
   "id": "afa7a0f1",
   "metadata": {},
   "outputs": [],
   "source": [
    "import numpy as np\n",
    "import pandas as pd\n",
    "import matplotlib.pyplot as plt\n",
    "\n",
    "\n",
    "df = pd.read_csv('startup_funding.csv',encoding = 'utf-8')\n",
    "df['InvestmentType'].replace('SeedFunding','Seed Funding',inplace = True)\n",
    "df['InvestmentType'].replace('PrivateEquity','Private Equity',inplace = True)\n",
    "df['InvestmentType'].replace('DebtFunding','Debt Funding',inplace = True)\n",
    "df['InvestmentType'].replace('Crowd funding','Crowd Funding',inplace = True)\n",
    "df['AmountInUSD'] = df['AmountInUSD'].apply(lambda x: float(str(x).replace(\",\",\"\")))\n",
    "\n",
    "df = df.groupby('InvestmentType')['AmountInUSD'].sum()\n",
    "df = df.sort_values(ascending = False)[:10]\n",
    "investment = df.index\n",
    "amount = df.values\n",
    "\n",
    "plt.pie(amount,labels = investment,autopct='%0.2f',counterclock=False,startangle=110)\n",
    "plt.show()\n",
    "\n",
    "percent = np.true_divide(amount,amount.sum())*100\n",
    "for i in range(len(investment)):\n",
    "    print(investment[i],format(percent[i],'0.2f'))"
   ]
  },
  {
   "cell_type": "markdown",
   "id": "c3ce7a95",
   "metadata": {},
   "source": [
    "5. Top Industries -\n",
    "\n",
    "Which type of companies got more easily funding. To answer this question, find -\n",
    "Top 5 industries and percentage of the total amount funded to that industry. (among top 5 only)\n",
    "Print the industry name and percentage of the amount funded with 2 decimal place after rounding off."
   ]
  },
  {
   "cell_type": "code",
   "execution_count": null,
   "id": "03a18ae9",
   "metadata": {},
   "outputs": [],
   "source": [
    "import pandas as pd\n",
    "import numpy as np\n",
    "import matplotlib.pyplot as plt\n",
    "\n",
    "df = pd.read_csv('startup_funding.csv',encoding = 'utf-8')\n",
    "df['IndustryVertical'].replace('ECommerce','Ecommerce',inplace = True)\n",
    "df['IndustryVertical'].replace('eCommerce','Ecommerce',inplace = True)\n",
    "df['IndustryVertical'].replace('ecommerce','Ecommerce',inplace = True)\n",
    "df['AmountInUSD'] = df['AmountInUSD'].apply(lambda x: float(str(x).replace(\",\",\"\")))\n",
    "df = df.groupby('IndustryVertical')['AmountInUSD'].sum()\n",
    "df = df.sort_values(ascending = False)[:5]\n",
    "industry = df.index\n",
    "amount = df.values\n",
    "\n",
    "plt.pie(amount,labels = industry,autopct='%0.2f',counterclock=False,startangle=100)\n",
    "plt.show()\n",
    "percent = np.true_divide(amount,amount.sum())*100\n",
    "for i in range(len(industry)):\n",
    "    print(industry[i],format(percent[i],'0.2f'))"
   ]
  },
  {
   "cell_type": "markdown",
   "id": "36bebc7c",
   "metadata": {},
   "source": [
    "6. Top start-ups -\n",
    "\n",
    "Find top 5 startups with most amount of total funding.\n",
    "Print the startup name in descending order with respect to amount of funding.\n",
    "Note:\n",
    "Ola, Flipkart, Oyo, Paytm are important startups, so correct their names. There are many errors in startup names, ignore correcting all, just handle important ones."
   ]
  },
  {
   "cell_type": "code",
   "execution_count": null,
   "id": "0d3a6f50",
   "metadata": {},
   "outputs": [],
   "source": [
    "import pandas as pd\n",
    "import numpy as np\n",
    "import matplotlib.pyplot as plt\n",
    "\n",
    "df = pd.read_csv('startup_funding.csv',encoding = 'utf-8')\n",
    "df['StartupName'].replace('Oyorooms','Oyo',inplace = True)\n",
    "df['StartupName'].replace('OyoRooms','Oyo',inplace = True)\n",
    "df['StartupName'].replace('Oyo Rooms','Oyo',inplace = True)\n",
    "df['StartupName'].replace('OYO Rooms','Oyo',inplace = True)\n",
    "df['StartupName'].replace('Olacabs','Ola',inplace = True)\n",
    "df['StartupName'].replace('Ola Cabs','Ola',inplace = True)\n",
    "df['StartupName'].replace('Olacabs','Ola',inplace = True)\n",
    "df['StartupName'].replace('Flipkart.com','Flipkart',inplace = True)\n",
    "df['StartupName'].replace('Paytm Marketplace','Paytm',inplace = True)\n",
    "\n",
    "df['AmountInUSD'] = df['AmountInUSD'].apply(lambda x: float(str(x).replace(\",\",\"\")))\n",
    "df = df.groupby('StartupName')['AmountInUSD'].sum()\n",
    "df = df.sort_values(ascending = False)[:5]\n",
    "startup = df.index\n",
    "for i in range(5):\n",
    "    print(startup[i])"
   ]
  },
  {
   "cell_type": "markdown",
   "id": "49fcd431",
   "metadata": {},
   "source": [
    "7. Funding Rounds-\n",
    "\n",
    "Find the top 5 startups who received the most number of funding rounds. That means, startups which got fundings maximum number of times.\n",
    "Print the startup name in descending order with respect to the number of funding round as integer value."
   ]
  },
  {
   "cell_type": "code",
   "execution_count": null,
   "id": "c37acc62",
   "metadata": {},
   "outputs": [],
   "source": [
    "import pandas as pd\n",
    "import numpy as np\n",
    "import matplotlib.pyplot as plt\n",
    "\n",
    "df = pd.read_csv('startup_funding.csv',encoding = 'utf-8')\n",
    "df['StartupName'].replace('Oyorooms','Oyo',inplace = True)\n",
    "df['StartupName'].replace('OyoRooms','Oyo',inplace = True)\n",
    "df['StartupName'].replace('Oyo Rooms','Oyo',inplace = True)\n",
    "df['StartupName'].replace('OYO Rooms','Oyo',inplace = True)\n",
    "df['StartupName'].replace('Olacabs','Ola',inplace = True)\n",
    "df['StartupName'].replace('Ola Cabs','Ola',inplace = True)\n",
    "df['StartupName'].replace('Olacabs','Ola',inplace = True)\n",
    "df['StartupName'].replace('Flipkart.com','Flipkart',inplace = True)\n",
    "df['StartupName'].replace('Paytm Marketplace','Paytm',inplace = True)\n",
    "\n",
    "totalfunding = df['StartupName'].value_counts()[:5]\n",
    "startupname = totalfunding.index\n",
    "count = totalfunding.values\n",
    "for i in range(5):\n",
    "    print(startupname[i],count[i])"
   ]
  },
  {
   "cell_type": "markdown",
   "id": "f42c1926",
   "metadata": {},
   "source": [
    "8. Top Investors - \n",
    "\n",
    "Find the Investors who have invested maximum number of times.\n",
    "Print the investor name and number of times invested as integer value.\n",
    "Note:\n",
    "In startup, multiple investors might have invested. So consider each investor for that startup.\n",
    "Ignore the undisclosed investors."
   ]
  },
  {
   "cell_type": "code",
   "execution_count": null,
   "id": "7de49789",
   "metadata": {},
   "outputs": [],
   "source": [
    "import pandas as pd\n",
    "import numpy as np\n",
    "import collections\n",
    "\n",
    "df = pd.read_csv('startup_funding.csv',encoding = 'utf-8')\n",
    "df.InvestorsName.fillna(\"\",inplace = True)\n",
    "investors = df.InvestorsName\n",
    "\n",
    "investors_name = []\n",
    "for i in investors:\n",
    "    if i != \"\":\n",
    "        temp = i.split(\",\")\n",
    "        for j in temp:\n",
    "            investors_name.append(j.strip())\n",
    "dct = {}\n",
    "for i in investors_name:\n",
    "    dct[i] = dct.get(i,0) + 1\n",
    "\n",
    "    \n",
    "dct_keys = sorted(dct,key=dct.get,reverse=True)\n",
    "print(dct_keys[0],dct[dct_keys[0]])"
   ]
  }
 ],
 "metadata": {
  "kernelspec": {
   "display_name": "Python 3 (ipykernel)",
   "language": "python",
   "name": "python3"
  },
  "language_info": {
   "codemirror_mode": {
    "name": "ipython",
    "version": 3
   },
   "file_extension": ".py",
   "mimetype": "text/x-python",
   "name": "python",
   "nbconvert_exporter": "python",
   "pygments_lexer": "ipython3",
   "version": "3.11.3"
  }
 },
 "nbformat": 4,
 "nbformat_minor": 5
}
